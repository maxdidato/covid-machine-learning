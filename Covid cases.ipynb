{
 "cells": [
  {
   "cell_type": "markdown",
   "id": "architectural-first",
   "metadata": {},
   "source": [
    "# Predict Covid cases by region"
   ]
  },
  {
   "cell_type": "code",
   "execution_count": 1,
   "id": "peripheral-conviction",
   "metadata": {},
   "outputs": [],
   "source": [
    "import pandas as pd \n",
    "import matplotlib.pyplot as mtp\n",
    "from sklearn import linear_model\n",
    "from sklearn.tree import DecisionTreeRegressor\n",
    "from sklearn.model_selection import train_test_split\n",
    "from sklearn.metrics import mean_squared_log_error\n",
    "from sklearn import model_selection\n",
    "from sklearn.ensemble import RandomForestRegressor\n",
    "\n",
    "import numpy as np\n",
    "import requests\n",
    "import awoc\n",
    "import math"
   ]
  },
  {
   "cell_type": "code",
   "execution_count": 2,
   "id": "interim-remedy",
   "metadata": {
    "scrolled": true
   },
   "outputs": [
    {
     "data": {
      "text/html": [
       "<div>\n",
       "<style scoped>\n",
       "    .dataframe tbody tr th:only-of-type {\n",
       "        vertical-align: middle;\n",
       "    }\n",
       "\n",
       "    .dataframe tbody tr th {\n",
       "        vertical-align: top;\n",
       "    }\n",
       "\n",
       "    .dataframe thead th {\n",
       "        text-align: right;\n",
       "    }\n",
       "</style>\n",
       "<table border=\"1\" class=\"dataframe\">\n",
       "  <thead>\n",
       "    <tr style=\"text-align: right;\">\n",
       "      <th></th>\n",
       "      <th>Unnamed: 0</th>\n",
       "      <th>country</th>\n",
       "      <th>country_code</th>\n",
       "      <th>last_updated</th>\n",
       "      <th>new_deaths</th>\n",
       "      <th>new_infections</th>\n",
       "      <th>new_recovered</th>\n",
       "    </tr>\n",
       "  </thead>\n",
       "  <tbody>\n",
       "    <tr>\n",
       "      <th>0</th>\n",
       "      <td>0</td>\n",
       "      <td>Afghanistan</td>\n",
       "      <td>AF</td>\n",
       "      <td>2020-02-25 00:00:00+00:00</td>\n",
       "      <td>0</td>\n",
       "      <td>0</td>\n",
       "      <td>0</td>\n",
       "    </tr>\n",
       "    <tr>\n",
       "      <th>1</th>\n",
       "      <td>1</td>\n",
       "      <td>Afghanistan</td>\n",
       "      <td>AF</td>\n",
       "      <td>2020-02-26 00:00:00+00:00</td>\n",
       "      <td>0</td>\n",
       "      <td>0</td>\n",
       "      <td>0</td>\n",
       "    </tr>\n",
       "    <tr>\n",
       "      <th>2</th>\n",
       "      <td>2</td>\n",
       "      <td>Afghanistan</td>\n",
       "      <td>AF</td>\n",
       "      <td>2020-02-27 00:00:00+00:00</td>\n",
       "      <td>0</td>\n",
       "      <td>0</td>\n",
       "      <td>0</td>\n",
       "    </tr>\n",
       "    <tr>\n",
       "      <th>3</th>\n",
       "      <td>3</td>\n",
       "      <td>Afghanistan</td>\n",
       "      <td>AF</td>\n",
       "      <td>2020-02-28 00:00:00+00:00</td>\n",
       "      <td>0</td>\n",
       "      <td>0</td>\n",
       "      <td>0</td>\n",
       "    </tr>\n",
       "    <tr>\n",
       "      <th>4</th>\n",
       "      <td>4</td>\n",
       "      <td>Afghanistan</td>\n",
       "      <td>AF</td>\n",
       "      <td>2020-02-29 00:00:00+00:00</td>\n",
       "      <td>0</td>\n",
       "      <td>0</td>\n",
       "      <td>0</td>\n",
       "    </tr>\n",
       "  </tbody>\n",
       "</table>\n",
       "</div>"
      ],
      "text/plain": [
       "   Unnamed: 0      country country_code              last_updated  new_deaths  \\\n",
       "0           0  Afghanistan           AF 2020-02-25 00:00:00+00:00           0   \n",
       "1           1  Afghanistan           AF 2020-02-26 00:00:00+00:00           0   \n",
       "2           2  Afghanistan           AF 2020-02-27 00:00:00+00:00           0   \n",
       "3           3  Afghanistan           AF 2020-02-28 00:00:00+00:00           0   \n",
       "4           4  Afghanistan           AF 2020-02-29 00:00:00+00:00           0   \n",
       "\n",
       "   new_infections  new_recovered  \n",
       "0               0              0  \n",
       "1               0              0  \n",
       "2               0              0  \n",
       "3               0              0  \n",
       "4               0              0  "
      ]
     },
     "execution_count": 2,
     "metadata": {},
     "output_type": "execute_result"
    }
   ],
   "source": [
    "df = pd.read_csv(\"covid.csv\",parse_dates=['last_updated'])\n",
    "df.head()\n",
    "\n",
    "df = df[df['new_infections'] >= 0]\n",
    "df = df[df['new_deaths'] >=0]\n",
    "df = df[df['new_recovered'] >=0]\n",
    "df.head()"
   ]
  },
  {
   "cell_type": "markdown",
   "id": "nasty-license",
   "metadata": {},
   "source": [
    "## Bar plot for countries with most cases"
   ]
  },
  {
   "cell_type": "markdown",
   "id": "sweet-jesus",
   "metadata": {},
   "source": [
    "### For some reason Namibia country code NA is converted to Nan. Filling it"
   ]
  },
  {
   "cell_type": "code",
   "execution_count": 3,
   "id": "right-endorsement",
   "metadata": {},
   "outputs": [
    {
     "name": "stdout",
     "output_type": "stream",
     "text": [
      "<class 'pandas.core.frame.DataFrame'>\n",
      "Int64Index: 66005 entries, 0 to 66326\n",
      "Data columns (total 7 columns):\n",
      " #   Column          Non-Null Count  Dtype              \n",
      "---  ------          --------------  -----              \n",
      " 0   Unnamed: 0      66005 non-null  int64              \n",
      " 1   country         66005 non-null  object             \n",
      " 2   country_code    66005 non-null  object             \n",
      " 3   last_updated    66005 non-null  datetime64[ns, UTC]\n",
      " 4   new_deaths      66005 non-null  int64              \n",
      " 5   new_infections  66005 non-null  int64              \n",
      " 6   new_recovered   66005 non-null  int64              \n",
      "dtypes: datetime64[ns, UTC](1), int64(4), object(2)\n",
      "memory usage: 4.0+ MB\n"
     ]
    }
   ],
   "source": [
    "df['country_code'].fillna(\"NA\",inplace=True)\n",
    "df.info()"
   ]
  },
  {
   "cell_type": "code",
   "execution_count": 4,
   "id": "corresponding-layout",
   "metadata": {},
   "outputs": [
    {
     "data": {
      "image/png": "[encoded data removed]",
      "text/plain": [
       "<Figure size 720x720 with 1 Axes>"
      ]
     },
     "metadata": {
      "needs_background": "light"
     },
     "output_type": "display_data"
    }
   ],
   "source": [
    "cases_per_country = pd.DataFrame( df.groupby(\"country\")[\"new_infections\"].agg(sum))\n",
    "cases_sorted_asc = cases_per_country.sort_values(\"new_infections\",ascending=False)[:30]\n",
    "cases_sorted_asc.plot(kind='barh',figsize=(10,10));\n"
   ]
  },
  {
   "cell_type": "code",
   "execution_count": 5,
   "id": "innovative-platinum",
   "metadata": {},
   "outputs": [
    {
     "data": {
      "text/plain": [
       "<AxesSubplot:xlabel='last_updated'>"
      ]
     },
     "execution_count": 5,
     "metadata": {},
     "output_type": "execute_result"
    },
    {
     "data": {
      "image/png": "[encoded data removed]",
      "text/plain": [
       "<Figure size 432x288 with 1 Axes>"
      ]
     },
     "metadata": {
      "needs_background": "light"
     },
     "output_type": "display_data"
    }
   ],
   "source": [
    "df.sort_values(by='last_updated')\n",
    "df[df['country_code'] == 'GB'].plot(x=\"last_updated\",y=\"new_infections\")\n"
   ]
  },
  {
   "cell_type": "code",
   "execution_count": 6,
   "id": "sought-tanzania",
   "metadata": {},
   "outputs": [],
   "source": [
    "\n",
    "def normalize_input_dataframe(dataframe):\n",
    "    df_copy = dataframe.copy()\n",
    "    df_copy['country_cat'] = df_copy['country_code'].astype('category').cat.codes\n",
    "    df_copy['timestamp'] = [x.days for x in (df_copy['last_updated'] - df_date_sorted['last_updated'].min())]\n",
    "    df_copy = df_copy.loc[:,['timestamp','country_cat','country_code']]\n",
    "    return df_copy\n",
    "\n",
    "\n"
   ]
  },
  {
   "cell_type": "markdown",
   "id": "apparent-corrections",
   "metadata": {},
   "source": [
    "## DecisionTreeRegressor test without any tuning/cross validation\n",
    "We want to order the dataset by date so to have a ascendent order (chronological). Then we cut 10% from the bottom of the dataset to use as testing data (basically try to estimate the time series)"
   ]
  },
  {
   "cell_type": "code",
   "execution_count": 7,
   "id": "practical-offering",
   "metadata": {},
   "outputs": [
    {
     "data": {
      "text/html": [
       "<div>\n",
       "<style scoped>\n",
       "    .dataframe tbody tr th:only-of-type {\n",
       "        vertical-align: middle;\n",
       "    }\n",
       "\n",
       "    .dataframe tbody tr th {\n",
       "        vertical-align: top;\n",
       "    }\n",
       "\n",
       "    .dataframe thead th {\n",
       "        text-align: right;\n",
       "    }\n",
       "</style>\n",
       "<table border=\"1\" class=\"dataframe\">\n",
       "  <thead>\n",
       "    <tr style=\"text-align: right;\">\n",
       "      <th></th>\n",
       "      <th>Unnamed: 0</th>\n",
       "      <th>country</th>\n",
       "      <th>country_code</th>\n",
       "      <th>last_updated</th>\n",
       "      <th>new_deaths</th>\n",
       "      <th>new_infections</th>\n",
       "      <th>new_recovered</th>\n",
       "    </tr>\n",
       "  </thead>\n",
       "  <tbody>\n",
       "    <tr>\n",
       "      <th>0</th>\n",
       "      <td>0</td>\n",
       "      <td>Taiwan</td>\n",
       "      <td>TW</td>\n",
       "      <td>2020-01-23 00:00:00+00:00</td>\n",
       "      <td>0</td>\n",
       "      <td>0</td>\n",
       "      <td>0</td>\n",
       "    </tr>\n",
       "    <tr>\n",
       "      <th>1</th>\n",
       "      <td>0</td>\n",
       "      <td>Thailand</td>\n",
       "      <td>TH</td>\n",
       "      <td>2020-01-23 00:00:00+00:00</td>\n",
       "      <td>0</td>\n",
       "      <td>1</td>\n",
       "      <td>0</td>\n",
       "    </tr>\n",
       "    <tr>\n",
       "      <th>2</th>\n",
       "      <td>0</td>\n",
       "      <td>South Korea</td>\n",
       "      <td>KR</td>\n",
       "      <td>2020-01-23 00:00:00+00:00</td>\n",
       "      <td>0</td>\n",
       "      <td>0</td>\n",
       "      <td>0</td>\n",
       "    </tr>\n",
       "    <tr>\n",
       "      <th>3</th>\n",
       "      <td>0</td>\n",
       "      <td>China</td>\n",
       "      <td>CN</td>\n",
       "      <td>2020-01-23 00:00:00+00:00</td>\n",
       "      <td>0</td>\n",
       "      <td>0</td>\n",
       "      <td>0</td>\n",
       "    </tr>\n",
       "    <tr>\n",
       "      <th>4</th>\n",
       "      <td>0</td>\n",
       "      <td>Hong Kong</td>\n",
       "      <td>HK</td>\n",
       "      <td>2020-01-23 00:00:00+00:00</td>\n",
       "      <td>0</td>\n",
       "      <td>2</td>\n",
       "      <td>0</td>\n",
       "    </tr>\n",
       "    <tr>\n",
       "      <th>...</th>\n",
       "      <td>...</td>\n",
       "      <td>...</td>\n",
       "      <td>...</td>\n",
       "      <td>...</td>\n",
       "      <td>...</td>\n",
       "      <td>...</td>\n",
       "      <td>...</td>\n",
       "    </tr>\n",
       "    <tr>\n",
       "      <th>66000</th>\n",
       "      <td>369</td>\n",
       "      <td>China</td>\n",
       "      <td>CN</td>\n",
       "      <td>2021-01-26 00:00:00+00:00</td>\n",
       "      <td>1</td>\n",
       "      <td>82</td>\n",
       "      <td>45</td>\n",
       "    </tr>\n",
       "    <tr>\n",
       "      <th>66001</th>\n",
       "      <td>316</td>\n",
       "      <td>Saint Lucia</td>\n",
       "      <td>LC</td>\n",
       "      <td>2021-01-26 00:00:00+00:00</td>\n",
       "      <td>2</td>\n",
       "      <td>35</td>\n",
       "      <td>9</td>\n",
       "    </tr>\n",
       "    <tr>\n",
       "      <th>66002</th>\n",
       "      <td>311</td>\n",
       "      <td>Saint Martin</td>\n",
       "      <td>MF</td>\n",
       "      <td>2021-01-26 00:00:00+00:00</td>\n",
       "      <td>0</td>\n",
       "      <td>0</td>\n",
       "      <td>0</td>\n",
       "    </tr>\n",
       "    <tr>\n",
       "      <th>66003</th>\n",
       "      <td>270</td>\n",
       "      <td>Comoros</td>\n",
       "      <td>KM</td>\n",
       "      <td>2021-01-26 00:00:00+00:00</td>\n",
       "      <td>1</td>\n",
       "      <td>75</td>\n",
       "      <td>17</td>\n",
       "    </tr>\n",
       "    <tr>\n",
       "      <th>66004</th>\n",
       "      <td>310</td>\n",
       "      <td>Zimbabwe</td>\n",
       "      <td>ZW</td>\n",
       "      <td>2021-01-26 00:00:00+00:00</td>\n",
       "      <td>28</td>\n",
       "      <td>358</td>\n",
       "      <td>536</td>\n",
       "    </tr>\n",
       "  </tbody>\n",
       "</table>\n",
       "<p>66005 rows × 7 columns</p>\n",
       "</div>"
      ],
      "text/plain": [
       "       Unnamed: 0       country country_code              last_updated  \\\n",
       "0               0        Taiwan           TW 2020-01-23 00:00:00+00:00   \n",
       "1               0      Thailand           TH 2020-01-23 00:00:00+00:00   \n",
       "2               0   South Korea           KR 2020-01-23 00:00:00+00:00   \n",
       "3               0         China           CN 2020-01-23 00:00:00+00:00   \n",
       "4               0     Hong Kong           HK 2020-01-23 00:00:00+00:00   \n",
       "...           ...           ...          ...                       ...   \n",
       "66000         369         China           CN 2021-01-26 00:00:00+00:00   \n",
       "66001         316   Saint Lucia           LC 2021-01-26 00:00:00+00:00   \n",
       "66002         311  Saint Martin           MF 2021-01-26 00:00:00+00:00   \n",
       "66003         270       Comoros           KM 2021-01-26 00:00:00+00:00   \n",
       "66004         310      Zimbabwe           ZW 2021-01-26 00:00:00+00:00   \n",
       "\n",
       "       new_deaths  new_infections  new_recovered  \n",
       "0               0               0              0  \n",
       "1               0               1              0  \n",
       "2               0               0              0  \n",
       "3               0               0              0  \n",
       "4               0               2              0  \n",
       "...           ...             ...            ...  \n",
       "66000           1              82             45  \n",
       "66001           2              35              9  \n",
       "66002           0               0              0  \n",
       "66003           1              75             17  \n",
       "66004          28             358            536  \n",
       "\n",
       "[66005 rows x 7 columns]"
      ]
     },
     "execution_count": 7,
     "metadata": {},
     "output_type": "execute_result"
    }
   ],
   "source": [
    "# sort by date\n",
    "df_date_sorted = df.sort_values(by=['last_updated'])\n",
    "df_date_sorted.reset_index(inplace=True,drop=True)\n",
    "df_date_sorted"
   ]
  },
  {
   "cell_type": "code",
   "execution_count": 8,
   "id": "varying-mattress",
   "metadata": {},
   "outputs": [
    {
     "data": {
      "text/html": [
       "<div>\n",
       "<style scoped>\n",
       "    .dataframe tbody tr th:only-of-type {\n",
       "        vertical-align: middle;\n",
       "    }\n",
       "\n",
       "    .dataframe tbody tr th {\n",
       "        vertical-align: top;\n",
       "    }\n",
       "\n",
       "    .dataframe thead th {\n",
       "        text-align: right;\n",
       "    }\n",
       "</style>\n",
       "<table border=\"1\" class=\"dataframe\">\n",
       "  <thead>\n",
       "    <tr style=\"text-align: right;\">\n",
       "      <th></th>\n",
       "      <th>timestamp</th>\n",
       "      <th>country_cat</th>\n",
       "      <th>country_code</th>\n",
       "    </tr>\n",
       "  </thead>\n",
       "  <tbody>\n",
       "    <tr>\n",
       "      <th>0</th>\n",
       "      <td>0</td>\n",
       "      <td>193</td>\n",
       "      <td>TW</td>\n",
       "    </tr>\n",
       "    <tr>\n",
       "      <th>1</th>\n",
       "      <td>0</td>\n",
       "      <td>187</td>\n",
       "      <td>TH</td>\n",
       "    </tr>\n",
       "    <tr>\n",
       "      <th>2</th>\n",
       "      <td>0</td>\n",
       "      <td>104</td>\n",
       "      <td>KR</td>\n",
       "    </tr>\n",
       "    <tr>\n",
       "      <th>3</th>\n",
       "      <td>0</td>\n",
       "      <td>39</td>\n",
       "      <td>CN</td>\n",
       "    </tr>\n",
       "    <tr>\n",
       "      <th>4</th>\n",
       "      <td>0</td>\n",
       "      <td>81</td>\n",
       "      <td>HK</td>\n",
       "    </tr>\n",
       "    <tr>\n",
       "      <th>...</th>\n",
       "      <td>...</td>\n",
       "      <td>...</td>\n",
       "      <td>...</td>\n",
       "    </tr>\n",
       "    <tr>\n",
       "      <th>66000</th>\n",
       "      <td>369</td>\n",
       "      <td>39</td>\n",
       "      <td>CN</td>\n",
       "    </tr>\n",
       "    <tr>\n",
       "      <th>66001</th>\n",
       "      <td>369</td>\n",
       "      <td>110</td>\n",
       "      <td>LC</td>\n",
       "    </tr>\n",
       "    <tr>\n",
       "      <th>66002</th>\n",
       "      <td>369</td>\n",
       "      <td>123</td>\n",
       "      <td>MF</td>\n",
       "    </tr>\n",
       "    <tr>\n",
       "      <th>66003</th>\n",
       "      <td>369</td>\n",
       "      <td>102</td>\n",
       "      <td>KM</td>\n",
       "    </tr>\n",
       "    <tr>\n",
       "      <th>66004</th>\n",
       "      <td>369</td>\n",
       "      <td>214</td>\n",
       "      <td>ZW</td>\n",
       "    </tr>\n",
       "  </tbody>\n",
       "</table>\n",
       "<p>66005 rows × 3 columns</p>\n",
       "</div>"
      ],
      "text/plain": [
       "       timestamp  country_cat country_code\n",
       "0              0          193           TW\n",
       "1              0          187           TH\n",
       "2              0          104           KR\n",
       "3              0           39           CN\n",
       "4              0           81           HK\n",
       "...          ...          ...          ...\n",
       "66000        369           39           CN\n",
       "66001        369          110           LC\n",
       "66002        369          123           MF\n",
       "66003        369          102           KM\n",
       "66004        369          214           ZW\n",
       "\n",
       "[66005 rows x 3 columns]"
      ]
     },
     "execution_count": 8,
     "metadata": {},
     "output_type": "execute_result"
    }
   ],
   "source": [
    "\n",
    "#cut X and Ys \n",
    "X = df_date_sorted.drop(['new_deaths','new_infections','new_recovered'],1)\n",
    "Y_Cases = df_date_sorted['new_infections']\n",
    "Y_Fatalities = df_date_sorted['new_deaths']\n",
    "#normalise input data for training\n",
    "X_with_countries = normalize_input_dataframe(X)\n",
    "X = X_with_countries.drop('country_code',1)\n",
    "X_with_countries"
   ]
  },
  {
   "cell_type": "code",
   "execution_count": null,
   "id": "rising-egyptian",
   "metadata": {},
   "outputs": [],
   "source": []
  },
  {
   "cell_type": "code",
   "execution_count": 67,
   "id": "objective-syria",
   "metadata": {},
   "outputs": [],
   "source": [
    "#split train and test models for ConfirmedCases\n",
    "X_cases_train,X_cases_test,Y_cases_train,Y_cases_test = train_test_split(X,Y_Cases,test_size=0.2, shuffle=True)\n",
    "#split train and test models for Fatalities\n",
    "X_fat_train,X_fat_test,Y_fat_train,Y_fat_test = train_test_split(X,Y_Fatalities,test_size=0.1,shuffle = True)\n",
    "#training model and calculating sqrt mean squared log error on test set\n",
    "model_cases = RandomForestRegressor(n_estimators = 400, bootstrap = True,max_depth = 50,max_features ='auto',\n",
    "                                   min_samples_leaf=4,min_samples_split=10)\n",
    "model_fatalities = RandomForestRegressor()"
   ]
  },
  {
   "cell_type": "code",
   "execution_count": null,
   "id": "activated-pledge",
   "metadata": {},
   "outputs": [],
   "source": []
  },
  {
   "cell_type": "code",
   "execution_count": null,
   "id": "proof-melbourne",
   "metadata": {},
   "outputs": [],
   "source": []
  },
  {
   "cell_type": "code",
   "execution_count": null,
   "id": "fallen-horizontal",
   "metadata": {},
   "outputs": [],
   "source": []
  },
  {
   "cell_type": "markdown",
   "id": "described-potential",
   "metadata": {},
   "source": [
    "### Train and test model for Confirmed Cases"
   ]
  },
  {
   "cell_type": "code",
   "execution_count": 68,
   "id": "ultimate-southeast",
   "metadata": {},
   "outputs": [
    {
     "data": {
      "text/plain": [
       "1.387630496467008"
      ]
     },
     "execution_count": 68,
     "metadata": {},
     "output_type": "execute_result"
    }
   ],
   "source": [
    "model_cases.fit(X_cases_train,Y_cases_train)\n",
    "predictions = model_cases.predict(X_cases_test)\n",
    "math.sqrt(mean_squared_log_error(Y_cases_test,predictions))"
   ]
  },
  {
   "cell_type": "markdown",
   "id": "presidential-telephone",
   "metadata": {},
   "source": [
    "### Train and test model for Fatalities"
   ]
  },
  {
   "cell_type": "code",
   "execution_count": 11,
   "id": "packed-lecture",
   "metadata": {},
   "outputs": [
    {
     "data": {
      "text/plain": [
       "0.8188085555080535"
      ]
     },
     "execution_count": 11,
     "metadata": {},
     "output_type": "execute_result"
    }
   ],
   "source": [
    "model_fatalities.fit(X_fat_train,Y_fat_train)\n",
    "predictions = model_fatalities.predict(X_fat_test)\n",
    "math.sqrt(mean_squared_log_error(Y_fat_test,predictions))"
   ]
  },
  {
   "cell_type": "markdown",
   "id": "personal-deviation",
   "metadata": {},
   "source": [
    "## Cross validation of DecisionTreeRegressor"
   ]
  },
  {
   "cell_type": "code",
   "execution_count": 12,
   "id": "competent-sucking",
   "metadata": {},
   "outputs": [
    {
     "data": {
      "text/html": [
       "<div>\n",
       "<style scoped>\n",
       "    .dataframe tbody tr th:only-of-type {\n",
       "        vertical-align: middle;\n",
       "    }\n",
       "\n",
       "    .dataframe tbody tr th {\n",
       "        vertical-align: top;\n",
       "    }\n",
       "\n",
       "    .dataframe thead th {\n",
       "        text-align: right;\n",
       "    }\n",
       "</style>\n",
       "<table border=\"1\" class=\"dataframe\">\n",
       "  <thead>\n",
       "    <tr style=\"text-align: right;\">\n",
       "      <th></th>\n",
       "      <th>timestamp</th>\n",
       "      <th>country_cat</th>\n",
       "      <th>country_code</th>\n",
       "    </tr>\n",
       "  </thead>\n",
       "  <tbody>\n",
       "    <tr>\n",
       "      <th>151</th>\n",
       "      <td>9</td>\n",
       "      <td>66</td>\n",
       "      <td>GB</td>\n",
       "    </tr>\n",
       "    <tr>\n",
       "      <th>172</th>\n",
       "      <td>10</td>\n",
       "      <td>66</td>\n",
       "      <td>GB</td>\n",
       "    </tr>\n",
       "    <tr>\n",
       "      <th>202</th>\n",
       "      <td>11</td>\n",
       "      <td>66</td>\n",
       "      <td>GB</td>\n",
       "    </tr>\n",
       "    <tr>\n",
       "      <th>220</th>\n",
       "      <td>12</td>\n",
       "      <td>66</td>\n",
       "      <td>GB</td>\n",
       "    </tr>\n",
       "    <tr>\n",
       "      <th>243</th>\n",
       "      <td>13</td>\n",
       "      <td>66</td>\n",
       "      <td>GB</td>\n",
       "    </tr>\n",
       "    <tr>\n",
       "      <th>...</th>\n",
       "      <td>...</td>\n",
       "      <td>...</td>\n",
       "      <td>...</td>\n",
       "    </tr>\n",
       "    <tr>\n",
       "      <th>64968</th>\n",
       "      <td>365</td>\n",
       "      <td>66</td>\n",
       "      <td>GB</td>\n",
       "    </tr>\n",
       "    <tr>\n",
       "      <th>65353</th>\n",
       "      <td>366</td>\n",
       "      <td>66</td>\n",
       "      <td>GB</td>\n",
       "    </tr>\n",
       "    <tr>\n",
       "      <th>65471</th>\n",
       "      <td>367</td>\n",
       "      <td>66</td>\n",
       "      <td>GB</td>\n",
       "    </tr>\n",
       "    <tr>\n",
       "      <th>65737</th>\n",
       "      <td>368</td>\n",
       "      <td>66</td>\n",
       "      <td>GB</td>\n",
       "    </tr>\n",
       "    <tr>\n",
       "      <th>65932</th>\n",
       "      <td>369</td>\n",
       "      <td>66</td>\n",
       "      <td>GB</td>\n",
       "    </tr>\n",
       "  </tbody>\n",
       "</table>\n",
       "<p>356 rows × 3 columns</p>\n",
       "</div>"
      ],
      "text/plain": [
       "       timestamp  country_cat country_code\n",
       "151            9           66           GB\n",
       "172           10           66           GB\n",
       "202           11           66           GB\n",
       "220           12           66           GB\n",
       "243           13           66           GB\n",
       "...          ...          ...          ...\n",
       "64968        365           66           GB\n",
       "65353        366           66           GB\n",
       "65471        367           66           GB\n",
       "65737        368           66           GB\n",
       "65932        369           66           GB\n",
       "\n",
       "[356 rows x 3 columns]"
      ]
     },
     "execution_count": 12,
     "metadata": {},
     "output_type": "execute_result"
    }
   ],
   "source": [
    "X_with_countries[X_with_countries['country_code']=='GB']"
   ]
  },
  {
   "cell_type": "code",
   "execution_count": null,
   "id": "administrative-disney",
   "metadata": {},
   "outputs": [],
   "source": []
  },
  {
   "cell_type": "code",
   "execution_count": 70,
   "id": "inappropriate-offer",
   "metadata": {},
   "outputs": [],
   "source": [
    "gb_predictions = model_cases.predict([[i,66] for i in range(1,400)])"
   ]
  },
  {
   "cell_type": "code",
   "execution_count": 71,
   "id": "certain-distributor",
   "metadata": {},
   "outputs": [
    {
     "data": {
      "text/plain": [
       "[<matplotlib.lines.Line2D at 0x7f859818fb80>]"
      ]
     },
     "execution_count": 71,
     "metadata": {},
     "output_type": "execute_result"
    },
    {
     "data": {
      "image/png": "[encoded data removed]",
      "text/plain": [
       "<Figure size 432x288 with 1 Axes>"
      ]
     },
     "metadata": {
      "needs_background": "light"
     },
     "output_type": "display_data"
    }
   ],
   "source": [
    "ranges = [i for i in range(1,400)]\n",
    "mtp.plot(ranges,gb_predictions)"
   ]
  },
  {
   "cell_type": "code",
   "execution_count": 60,
   "id": "interpreted-township",
   "metadata": {},
   "outputs": [
    {
     "data": {
      "text/plain": [
       "<AxesSubplot:xlabel='last_updated'>"
      ]
     },
     "execution_count": 60,
     "metadata": {},
     "output_type": "execute_result"
    },
    {
     "data": {
      "image/png": "[encoded data removed]",
      "text/plain": [
       "<Figure size 432x288 with 1 Axes>"
      ]
     },
     "metadata": {
      "needs_background": "light"
     },
     "output_type": "display_data"
    }
   ],
   "source": [
    "df.sort_values(by='last_updated')\n",
    "df[df['country_code'] == 'GB'].plot(x=\"last_updated\",y=\"new_infections\")"
   ]
  },
  {
   "cell_type": "code",
   "execution_count": null,
   "id": "suburban-bosnia",
   "metadata": {},
   "outputs": [],
   "source": []
  }
 ],
 "metadata": {
  "kernelspec": {
   "display_name": "Python 3",
   "language": "python",
   "name": "python3"
  },
  "language_info": {
   "codemirror_mode": {
    "name": "ipython",
    "version": 3
   },
   "file_extension": ".py",
   "mimetype": "text/x-python",
   "name": "python",
   "nbconvert_exporter": "python",
   "pygments_lexer": "ipython3",
   "version": "3.8.5"
  }
 },
 "nbformat": 4,
 "nbformat_minor": 5
}
